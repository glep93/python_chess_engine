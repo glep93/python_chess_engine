{
 "cells": [
  {
   "cell_type": "code",
   "execution_count": 3,
   "metadata": {},
   "outputs": [],
   "source": [
    "import chess_engine as ce\n",
    "\n",
    "import chess_dot_com_automation as ca\n",
    "import time"
   ]
  },
  {
   "cell_type": "code",
   "execution_count": null,
   "metadata": {},
   "outputs": [],
   "source": [
    "driver = ca.set_driver('Beth8-bot')\n",
    "CE = ce.chess_engine()\n",
    "while ~CE.board.is_game_over():\n",
    "    CE.board = ca.board_update(CE.board,driver)\n",
    "    try:\n",
    "        print( f'Opponent: {CE.board.peek().uci()}')\n",
    "    except:\n",
    "        print('Opponent: blak')\n",
    "    move = CE.book_move()\n",
    "    if move != 'Not Found':\n",
    "        ca.move_from_uci(move, driver )\n",
    "        print(f'Our bot (book): {move}')\n",
    "    else:\n",
    "        start = time.time()\n",
    "        for depth in [4,6]:\n",
    "            move = CE.alphabeta(depth = depth)[1].uci()\n",
    "            if time.time()- start > 0.5 : break \n",
    "        print(f'Our bot (Alphabeta pruning) depth = {depth}: {move}')\n",
    "        ca.move_from_uci(move, driver )\n",
    "    \n",
    "    time.sleep(3)"
   ]
  },
  {
   "cell_type": "code",
   "execution_count": null,
   "metadata": {},
   "outputs": [],
   "source": []
  },
  {
   "cell_type": "code",
   "execution_count": null,
   "metadata": {},
   "outputs": [],
   "source": []
  }
 ],
 "metadata": {
  "kernelspec": {
   "display_name": "Python 3",
   "language": "python",
   "name": "python3"
  },
  "language_info": {
   "codemirror_mode": {
    "name": "ipython",
    "version": 3
   },
   "file_extension": ".py",
   "mimetype": "text/x-python",
   "name": "python",
   "nbconvert_exporter": "python",
   "pygments_lexer": "ipython3",
   "version": "3.6.9"
  }
 },
 "nbformat": 4,
 "nbformat_minor": 2
}
